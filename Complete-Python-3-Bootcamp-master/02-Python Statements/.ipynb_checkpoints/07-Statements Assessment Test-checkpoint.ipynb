{
 "cells": [
  {
   "cell_type": "markdown",
   "metadata": {},
   "source": [
    "# Statements Assessment Test\n",
    "Let's test your knowledge!"
   ]
  },
  {
   "cell_type": "markdown",
   "metadata": {},
   "source": [
    "_____\n",
    "**Use <code>for</code>, .split(), and <code>if</code> to create a Statement that will print out words that start with 's':**"
   ]
  },
  {
   "cell_type": "code",
   "execution_count": 2,
   "metadata": {},
   "outputs": [],
   "source": [
    "st = 'Print only the words that start with s in this sentence'"
   ]
  },
  {
   "cell_type": "code",
   "execution_count": 12,
   "metadata": {},
   "outputs": [
    {
     "name": "stdout",
     "output_type": "stream",
     "text": [
      "start\n",
      "s\n",
      "sentence\n"
     ]
    }
   ],
   "source": [
    "#Code here\n",
    "list_words = st.split()\n",
    "for word in list_words:\n",
    "    if word[0].lower() == 's':\n",
    "        print(word)"
   ]
  },
  {
   "cell_type": "markdown",
   "metadata": {},
   "source": [
    "______\n",
    "**Use range() to print all the even numbers from 0 to 10.**"
   ]
  },
  {
   "cell_type": "code",
   "execution_count": 20,
   "metadata": {},
   "outputs": [
    {
     "name": "stdout",
     "output_type": "stream",
     "text": [
      "0\n",
      "2\n",
      "4\n",
      "6\n",
      "8\n",
      "10\n"
     ]
    }
   ],
   "source": [
    "#Code Here\n",
    "even_numbers = list(range(0,11, 2))\n",
    "\n",
    "for number in even_numbers:\n",
    "    print(number)"
   ]
  },
  {
   "cell_type": "markdown",
   "metadata": {},
   "source": [
    "___\n",
    "**Use a List Comprehension to create a list of all numbers between 1 and 50 that are divisible by 3.**"
   ]
  },
  {
   "cell_type": "code",
   "execution_count": 13,
   "metadata": {},
   "outputs": [
    {
     "data": {
      "text/plain": [
       "[3, 6, 9, 12, 15, 18, 21, 24, 27, 30, 33, 36, 39, 42, 45, 48]"
      ]
     },
     "execution_count": 13,
     "metadata": {},
     "output_type": "execute_result"
    }
   ],
   "source": [
    "#Code in this cell\n",
    "[x for x in range(1, 51) if x % 3 == 0]"
   ]
  },
  {
   "cell_type": "markdown",
   "metadata": {},
   "source": [
    "_____\n",
    "**Go through the string below and if the length of a word is even print \"even!\"**"
   ]
  },
  {
   "cell_type": "code",
   "execution_count": null,
   "metadata": {},
   "outputs": [],
   "source": [
    "st = 'Print every word in this sentence that has an even number of letters'"
   ]
  },
  {
   "cell_type": "code",
   "execution_count": 16,
   "metadata": {},
   "outputs": [
    {
     "name": "stdout",
     "output_type": "stream",
     "text": [
      "only even\n",
      "that even\n",
      "with even\n",
      "in even\n",
      "this even\n",
      "sentence even\n"
     ]
    }
   ],
   "source": [
    "#Code in this cell\n",
    "list_words = st.split()\n",
    "\n",
    "for word in list_words:\n",
    "    word_length = len(word)\n",
    "    if word_length % 2 == 0:\n",
    "        print(f\"{word} even\")"
   ]
  },
  {
   "cell_type": "markdown",
   "metadata": {},
   "source": [
    "____\n",
    "**Write a program that prints the integers from 1 to 100. But for multiples of three print \"Fizz\" instead of the number, and for the multiples of five print \"Buzz\". For numbers which are multiples of both three and five print \"FizzBuzz\".**"
   ]
  },
  {
   "cell_type": "code",
   "execution_count": 44,
   "metadata": {},
   "outputs": [
    {
     "name": "stdout",
     "output_type": "stream",
     "text": [
      "Fizz 0\n",
      "FizzBuzz 0\n",
      "Fizz 3\n",
      "FizzBuzz 3\n",
      "Buzz 5\n",
      "FizzBuzz 5\n",
      "Fizz 6\n",
      "FizzBuzz 6\n",
      "Fizz 9\n",
      "FizzBuzz 9\n",
      "Buzz 10\n",
      "FizzBuzz 10\n",
      "Fizz 12\n",
      "FizzBuzz 12\n",
      "Fizz 15\n",
      "FizzBuzz 15\n",
      "Fizz 18\n",
      "FizzBuzz 18\n",
      "Buzz 20\n",
      "FizzBuzz 20\n",
      "Fizz 21\n",
      "FizzBuzz 21\n",
      "Fizz 24\n",
      "FizzBuzz 24\n",
      "Buzz 25\n",
      "FizzBuzz 25\n",
      "Fizz 27\n",
      "FizzBuzz 27\n",
      "Fizz 30\n",
      "FizzBuzz 30\n",
      "Fizz 33\n",
      "FizzBuzz 33\n",
      "Buzz 35\n",
      "FizzBuzz 35\n",
      "Fizz 36\n",
      "FizzBuzz 36\n",
      "Fizz 39\n",
      "FizzBuzz 39\n",
      "Buzz 40\n",
      "FizzBuzz 40\n",
      "Fizz 42\n",
      "FizzBuzz 42\n",
      "Fizz 45\n",
      "FizzBuzz 45\n",
      "Fizz 48\n",
      "FizzBuzz 48\n",
      "Buzz 50\n",
      "FizzBuzz 50\n",
      "Fizz 51\n",
      "FizzBuzz 51\n",
      "Fizz 54\n",
      "FizzBuzz 54\n",
      "Buzz 55\n",
      "FizzBuzz 55\n",
      "Fizz 57\n",
      "FizzBuzz 57\n",
      "Fizz 60\n",
      "FizzBuzz 60\n",
      "Fizz 63\n",
      "FizzBuzz 63\n",
      "Buzz 65\n",
      "FizzBuzz 65\n",
      "Fizz 66\n",
      "FizzBuzz 66\n",
      "Fizz 69\n",
      "FizzBuzz 69\n",
      "Buzz 70\n",
      "FizzBuzz 70\n",
      "Fizz 72\n",
      "FizzBuzz 72\n",
      "Fizz 75\n",
      "FizzBuzz 75\n",
      "Fizz 78\n",
      "FizzBuzz 78\n",
      "Buzz 80\n",
      "FizzBuzz 80\n",
      "Fizz 81\n",
      "FizzBuzz 81\n",
      "Fizz 84\n",
      "FizzBuzz 84\n",
      "Buzz 85\n",
      "FizzBuzz 85\n",
      "Fizz 87\n",
      "FizzBuzz 87\n",
      "Fizz 90\n",
      "FizzBuzz 90\n",
      "Fizz 93\n",
      "FizzBuzz 93\n",
      "Buzz 95\n",
      "FizzBuzz 95\n",
      "Fizz 96\n",
      "FizzBuzz 96\n",
      "Fizz 99\n",
      "FizzBuzz 99\n",
      "Buzz 100\n",
      "FizzBuzz 100\n"
     ]
    }
   ],
   "source": [
    "#Code in this cell\n",
    "for number in range(1, 101):\n",
    "\n",
    "    if number % 3 == 0:\n",
    "        print(\"Fizz {}\".format(number))\n",
    "    elif number % 5 ==0:\n",
    "        print(\"Buzz {}\".format(number))\n",
    "    if number % 3 == 0 or number % 5 ==0:\n",
    "        print(f\"FizzBuzz {number}\")"
   ]
  },
  {
   "cell_type": "markdown",
   "metadata": {},
   "source": [
    "____\n",
    "**Use List Comprehension to create a list of the first letters of every word in the string below:**"
   ]
  },
  {
   "cell_type": "code",
   "execution_count": 7,
   "metadata": {},
   "outputs": [],
   "source": [
    "st = 'Print only the words that start with s in this sentence'"
   ]
  },
  {
   "cell_type": "code",
   "execution_count": 9,
   "metadata": {},
   "outputs": [
    {
     "name": "stdout",
     "output_type": "stream",
     "text": [
      "['P', 'o', 't', 'w', 't', 's', 'w', 's', 'i', 't', 's']\n"
     ]
    }
   ],
   "source": [
    "#Code in this cell\n",
    "list_words = st.split()\n",
    "first_letter_word = [x[0] for x in list_words]\n",
    "print(first_letter_word)"
   ]
  },
  {
   "cell_type": "markdown",
   "metadata": {},
   "source": [
    "### Great Job!"
   ]
  }
 ],
 "metadata": {
  "kernelspec": {
   "display_name": "Python 3",
   "language": "python",
   "name": "python3"
  },
  "language_info": {
   "codemirror_mode": {
    "name": "ipython",
    "version": 3
   },
   "file_extension": ".py",
   "mimetype": "text/x-python",
   "name": "python",
   "nbconvert_exporter": "python",
   "pygments_lexer": "ipython3",
   "version": "3.6.4"
  }
 },
 "nbformat": 4,
 "nbformat_minor": 2
}
